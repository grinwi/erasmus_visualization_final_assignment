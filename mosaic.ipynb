{
 "cells": [
  {
   "cell_type": "code",
   "execution_count": 2,
   "metadata": {},
   "outputs": [],
   "source": [
    "import pandas as pd\n",
    "import matplotlib.pyplot as plt\n",
    "from statsmodels.graphics.mosaicplot import mosaic\n",
    "\n",
    "import numpy as np\n",
    "# Load the data from the CSV file\n",
    "data = pd.read_csv('years_studied.csv')\n",
    "#select from data only columns of interest - gender, origin, years studied\n",
    "\n",
    "data = data.loc[np.repeat(data.index.values, data['Count'])]\n",
    "data = data[['Gender', 'Origin', 'Years_studied']]\n",
    "\n",
    "\n",
    "\n"
   ]
  },
  {
   "cell_type": "code",
   "execution_count": 11,
   "metadata": {},
   "outputs": [
    {
     "name": "stdout",
     "output_type": "stream",
     "text": [
      "    Gender   Origin  Years_studied\n",
      "0     Male    Local              2\n",
      "0     Male    Local              2\n",
      "0     Male    Local              2\n",
      "0     Male    Local              2\n",
      "0     Male    Local              2\n",
      "..     ...      ...            ...\n",
      "15  Female  Foreign              5\n",
      "15  Female  Foreign              5\n",
      "15  Female  Foreign              5\n",
      "15  Female  Foreign              5\n",
      "15  Female  Foreign              5\n",
      "\n",
      "[1294 rows x 3 columns]\n"
     ]
    }
   ],
   "source": [
    "print(data)"
   ]
  },
  {
   "cell_type": "code",
   "execution_count": 62,
   "metadata": {},
   "outputs": [
    {
     "name": "stderr",
     "output_type": "stream",
     "text": [
      "No artists with labels found to put in legend.  Note that artists whose label start with an underscore are ignored when legend() is called with no argument.\n"
     ]
    },
    {
     "name": "stdout",
     "output_type": "stream",
     "text": [
      "{('2', 'Female', 'Foreign'): 114, ('2', 'Female', 'Local'): 62, ('2', 'Male', 'Foreign'): 109, ('2', 'Male', 'Local'): 51, ('3', 'Female', 'Foreign'): 120, ('3', 'Female', 'Local'): 91, ('3', 'Male', 'Foreign'): 115, ('3', 'Male', 'Local'): 84, ('4', 'Female', 'Foreign'): 61, ('4', 'Female', 'Local'): 88, ('4', 'Male', 'Foreign'): 91, ('4', 'Male', 'Local'): 82, ('5', 'Female', 'Foreign'): 21, ('5', 'Female', 'Local'): 42, ('5', 'Male', 'Foreign'): 120, ('5', 'Male', 'Local'): 43}\n"
     ]
    },
    {
     "data": {
      "image/png": "[encoded data removed]",
      "text/plain": [
       "<Figure size 640x480 with 3 Axes>"
      ]
     },
     "metadata": {},
     "output_type": "display_data"
    }
   ],
   "source": [
    "# Create a mosaic plot\n",
    "\n",
    "def rect_props(key):\n",
    "\n",
    "    color = 'red' if key[1] == 'Female' else 'blue'\n",
    "    alpha = 0.3 + (int(key[0]) - 2) / 3 * 0.5  # normalize years of study to alpha value between 0.3 and 0.8\n",
    "    if key[2] == 'Local':\n",
    "        alpha *= 0.8  # reduce alpha for local students\n",
    "    if key[2] == 'Foreign':\n",
    "        alpha *= 1.2  # increase alpha for foreign students\n",
    "    return {'facecolor': color, 'alpha': alpha}\n",
    "\n",
    "\n",
    "mosaic_data = data[['Years_studied','Gender', 'Origin']]\n",
    "mosaic_data['Years_studied'] = mosaic_data['Years_studied'].astype(str)\n",
    "mosaic_data['count'] = 1  # add a count column of 1 for each row\n",
    "mosaic_dict = mosaic_data.groupby(['Years_studied','Gender', 'Origin']).size().to_dict()\n",
    "print(mosaic_dict)\n",
    "\n",
    "mosaic(data, ['Years_studied','Gender','Origin'], title='Student Distribution', labelizer=lambda key: mosaic_dict.get(key),properties=rect_props, gap=0.06,)\n",
    "\n",
    "# Add a legend\n",
    "plt.legend(title='Years of Study', loc='lower right')\n",
    "\n",
    "# Show the plot\n",
    "plt.show()"
   ]
  },
  {
   "cell_type": "code",
   "execution_count": 44,
   "metadata": {},
   "outputs": [],
   "source": [
    "mosaic_data = data[['Gender', 'Origin', 'Years_studied']]\n",
    "mosaic_data['count'] = 1  # add a count column of 1 for each row\n",
    "mosaic_dict = mosaic_data.groupby(['Gender', 'Origin', 'Years_studied']).size().to_dict()\n"
   ]
  },
  {
   "cell_type": "code",
   "execution_count": 45,
   "metadata": {},
   "outputs": [
    {
     "name": "stdout",
     "output_type": "stream",
     "text": [
      "{('Female', 'Foreign', 2): 114, ('Female', 'Foreign', 3): 120, ('Female', 'Foreign', 4): 61, ('Female', 'Foreign', 5): 21, ('Female', 'Local', 2): 62, ('Female', 'Local', 3): 91, ('Female', 'Local', 4): 88, ('Female', 'Local', 5): 42, ('Male', 'Foreign', 2): 109, ('Male', 'Foreign', 3): 115, ('Male', 'Foreign', 4): 91, ('Male', 'Foreign', 5): 120, ('Male', 'Local', 2): 51, ('Male', 'Local', 3): 84, ('Male', 'Local', 4): 82, ('Male', 'Local', 5): 43}\n"
     ]
    }
   ],
   "source": [
    "print(mosaic_dict)"
   ]
  }
 ],
 "metadata": {
  "kernelspec": {
   "display_name": "boiler_data",
   "language": "python",
   "name": "python3"
  },
  "language_info": {
   "codemirror_mode": {
    "name": "ipython",
    "version": 3
   },
   "file_extension": ".py",
   "mimetype": "text/x-python",
   "name": "python",
   "nbconvert_exporter": "python",
   "pygments_lexer": "ipython3",
   "version": "3.10.6"
  },
  "orig_nbformat": 4
 },
 "nbformat": 4,
 "nbformat_minor": 2
}
