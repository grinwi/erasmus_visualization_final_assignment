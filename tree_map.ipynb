import matplotlib.pyplot as plt
import squarify

# Create a treemap for top categories
top_category_values = df.groupby('Top Category')['Value'].sum().reset_index()
top_category_values.columns = ['Top Category', 'Value']
squarify.plot(sizes=top_category_values['Value'], label=top_category_values['Top Category'], alpha=.8 )
plt.axis('off')
plt.show()

# Create a treemap for subcategories
sub_category_values = df.groupby(['Top Category','Sub Category'])['Value'].sum().reset_index()
sub_category_values.columns = ['Top Category','Sub Category','Value']
fig, ax = plt.subplots(figsize=(12, 7))
colors = plt.cm.Spectral(np.linspace(0, 1, len(sub_category_values)))
squarify.plot(sizes=sub_category_values['Value'], label=sub_category_values['Sub Category'], alpha=.8,
              color=colors )
plt.axis('off')
plt.show()

# Create a treemap for companies in each subcategory
company_values = df.groupby(['Top Category','Sub Category','Company'])['Value'].sum().reset_index()
company_values.columns = ['Top Category','Sub Category','Company','Value']
fig, ax = plt.subplots(figsize=(12, 7))
colors = plt.cm.Spectral(np.linspace(0, 1, len(company_values)))
squarify.plot(sizes=company_values['Value'], label=company_values['Company'], alpha=.8,
              color=colors )
plt.axis('off')
plt.show()